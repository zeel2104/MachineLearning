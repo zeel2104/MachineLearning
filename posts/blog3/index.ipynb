{
  "cells": [
    {
      "cell_type": "raw",
      "metadata": {},
      "source": [
        "---\n",
        "title: \"Clustering\"\n",
        "author: \"Zeel\"\n",
        "date: \"2023-11-04\"\n",
        "categories: [Machine Learning]\n",
        "\n",
        "\n",
        "\n",
        "---"
      ],
      "id": "1edd9a62"
    },
    {
      "cell_type": "markdown",
      "metadata": {},
      "source": [
        "This is my 1st blog. Welcome!\n",
        "\n",
        "![](thumbnail.jpg)\n",
        "\n",
        "Since this post doesn't specify an explicit `image`, the first image in the post will be used in the listing page of posts.\n"
      ],
      "id": "d85cdf07"
    },
    {
      "cell_type": "code",
      "metadata": {},
      "source": [
        "# Import Libary\n",
        "import matplotlib.pyplot as plt\n",
        "import numpy as np\n",
        "import pandas as pd\n",
        "from sklearn.linear_model import LinearRegression\n",
        "\n",
        "# Download and prepare the data\n",
        "df=pd.read_csv(\"twitterdata.csv\")\n",
        "\n",
        "df.head()"
      ],
      "id": "3a8995e0",
      "execution_count": null,
      "outputs": []
    },
    {
      "cell_type": "code",
      "metadata": {},
      "source": [
        "# Import Libary\n",
        "print(df.isnull().sum())"
      ],
      "id": "f927f188",
      "execution_count": null,
      "outputs": []
    },
    {
      "cell_type": "code",
      "metadata": {},
      "source": [
        "df.info()"
      ],
      "id": "24498e8f",
      "execution_count": null,
      "outputs": []
    },
    {
      "cell_type": "code",
      "metadata": {},
      "source": [
        "df.shape"
      ],
      "id": "69fafd84",
      "execution_count": null,
      "outputs": []
    },
    {
      "cell_type": "code",
      "metadata": {},
      "source": [
        "# Import necessary libraries\n",
        "import pandas as pd\n",
        "import numpy as np\n",
        "import matplotlib.pyplot as plt\n",
        "import seaborn as sns\n",
        "from sklearn.cluster import KMeans\n",
        "from sklearn.preprocessing import StandardScaler\n",
        "from sklearn.decomposition import PCA"
      ],
      "id": "20fb80c4",
      "execution_count": null,
      "outputs": []
    },
    {
      "cell_type": "code",
      "metadata": {},
      "source": [
        "features = df[['followers_count', 'friends_count', 'statuses_count', 'favourites_count']]\n"
      ],
      "id": "c4add7d1",
      "execution_count": null,
      "outputs": []
    },
    {
      "cell_type": "code",
      "metadata": {},
      "source": [
        "np.corrcoef(X, Y)"
      ],
      "id": "ebdf3426",
      "execution_count": null,
      "outputs": []
    },
    {
      "cell_type": "code",
      "metadata": {},
      "source": [
        "# Plot the Input Data\n",
        "plt.scatter(X, Y, c='green', label='Data points')\n",
        "plt.xlabel('Head Size in cm3')\n",
        "plt.ylabel('Brain Weight in grams')\n",
        "plt.legend()\n",
        "plt.show()"
      ],
      "id": "c769ef52",
      "execution_count": null,
      "outputs": []
    },
    {
      "cell_type": "code",
      "metadata": {},
      "source": [
        "# Plot the Input Data\n",
        "# Calculating coefficient\n",
        "\n",
        "# Mean X and Y\n",
        "mean_x = np.mean(X)\n",
        "mean_y = np.mean(Y)\n",
        "\n",
        "# Total number of values\n",
        "n = len(X)\n",
        "\n",
        "# Using the formula to calculate theta1 and theta2\n",
        "numer = 0\n",
        "denom = 0\n",
        "for i in range(n):\n",
        "    numer += (X[i] - mean_x) * (Y[i] - mean_y)\n",
        "    denom += (X[i] - mean_x) ** 2\n",
        "b1 = numer / denom\n",
        "b0 = mean_y - (b1 * mean_x)\n",
        "\n",
        "# Printing coefficients\n",
        "print(\"coefficients for regression\",b1, b0)"
      ],
      "id": "b2de0e81",
      "execution_count": null,
      "outputs": []
    },
    {
      "cell_type": "code",
      "metadata": {},
      "source": [
        "# Plotting Values and Regression Line\n",
        "%matplotlib inline\n",
        "\n",
        "plt.rcParams['figure.figsize'] = (10.0, 5.0)\n",
        "# max_x = np.max(X) + 100\n",
        "# min_x = np.min(X) - 100\n",
        "\n",
        "y = b0 + b1 * X\n",
        "\n",
        "# Ploting Line\n",
        "plt.plot(X, y, color='blue', label='Regression Line')\n",
        "# Ploting Scatter Points\n",
        "plt.scatter(X, Y, c='green', label='Scatter data')\n",
        "\n",
        "plt.xlabel('Head Size in cm3')\n",
        "plt.ylabel('Brain Weight in grams')\n",
        "plt.legend()\n",
        "plt.show()"
      ],
      "id": "cbb694de",
      "execution_count": null,
      "outputs": []
    },
    {
      "cell_type": "code",
      "metadata": {},
      "source": [
        "# Calculating Root Mean Squares Error\n",
        "rmse = 0\n",
        "for i in range(n):\n",
        "    y_pred = b0 + b1 * X[i]\n",
        "    rmse += (Y[i] - y_pred) ** 2\n",
        "    \n",
        "rmse = np.sqrt(rmse/n)\n",
        "print(\"Root Mean Square Error is\",rmse)"
      ],
      "id": "c0535805",
      "execution_count": null,
      "outputs": []
    },
    {
      "cell_type": "code",
      "metadata": {},
      "source": [
        "# Calculating R2 Score\n",
        "ss_tot = 0\n",
        "ss_res = 0\n",
        "for i in range(n):\n",
        "    y_pred = b0 + b1 * X[i]\n",
        "    ss_tot += (Y[i] - mean_y) ** 2\n",
        "    ss_res += (Y[i] - y_pred) ** 2\n",
        "r2 = 1 - (ss_res/ss_tot)\n",
        "print(\"R2 Score\",r2)"
      ],
      "id": "7c13641d",
      "execution_count": null,
      "outputs": []
    },
    {
      "cell_type": "code",
      "metadata": {},
      "source": [
        "# Calculating R2 Score\n",
        "ss_tot = 0\n",
        "ss_res = 0\n",
        "for i in range(n):\n",
        "    y_pred = b0 + b1 * X[i]\n",
        "    ss_tot += (Y[i] - mean_y) ** 2\n",
        "    ss_res += (Y[i] - y_pred) ** 2\n",
        "r2 = 1 - (ss_res/ss_tot)\n",
        "print(\"R2 Score\",r2)"
      ],
      "id": "904ddf3f",
      "execution_count": null,
      "outputs": []
    }
  ],
  "metadata": {
    "kernelspec": {
      "name": "python3",
      "language": "python",
      "display_name": "Python 3 (ipykernel)"
    }
  },
  "nbformat": 4,
  "nbformat_minor": 5
}